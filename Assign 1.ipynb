{
 "cells": [
  {
   "cell_type": "markdown",
   "id": "56f33d7a",
   "metadata": {},
   "source": [
    "# Assignment 1"
   ]
  },
  {
   "cell_type": "code",
   "execution_count": null,
   "id": "789a466c",
   "metadata": {},
   "outputs": [],
   "source": [
    "# que 1"
   ]
  },
  {
   "cell_type": "code",
   "execution_count": null,
   "id": "f21c50ec",
   "metadata": {},
   "outputs": [],
   "source": [
    "l = list(range(2000,3200))"
   ]
  },
  {
   "cell_type": "code",
   "execution_count": null,
   "id": "3691bce8",
   "metadata": {},
   "outputs": [],
   "source": [
    "m = []\n",
    "for i in l:\n",
    "    if i%7 == 0 and i%5 != 0:\n",
    "        m.append(i)\n",
    "m"
   ]
  },
  {
   "cell_type": "code",
   "execution_count": 2,
   "id": "7011bd42",
   "metadata": {},
   "outputs": [
    {
     "name": "stdout",
     "output_type": "stream",
     "text": [
      "Enter last nameankur\n",
      "Enter first nameyadav\n",
      "vaday rukna\n"
     ]
    }
   ],
   "source": [
    "# Que 2\n",
    "last_name = input(\"Enter last name\")\n",
    "first_name =  input(\"Enter first name\")\n",
    "print(first_name[::-1] + \" \" + last_name[::-1])"
   ]
  },
  {
   "cell_type": "code",
   "execution_count": 2,
   "id": "86d32fc9",
   "metadata": {},
   "outputs": [],
   "source": [
    "import numpy"
   ]
  },
  {
   "cell_type": "code",
   "execution_count": 3,
   "id": "050d0619",
   "metadata": {},
   "outputs": [
    {
     "name": "stdout",
     "output_type": "stream",
     "text": [
      "Volume of sphere 904.7786842338604 cm^3\n"
     ]
    }
   ],
   "source": [
    "# Que 3\n",
    "\n",
    "r = 6\n",
    "V = (4*numpy.pi*r**3)/3\n",
    "print(\"Volume of sphere {} cm^3\".format(V) )"
   ]
  },
  {
   "cell_type": "code",
   "execution_count": null,
   "id": "605591de",
   "metadata": {},
   "outputs": [],
   "source": []
  },
  {
   "cell_type": "code",
   "execution_count": null,
   "id": "3f8d8006",
   "metadata": {},
   "outputs": [],
   "source": []
  }
 ],
 "metadata": {
  "kernelspec": {
   "display_name": "Python 3 (ipykernel)",
   "language": "python",
   "name": "python3"
  },
  "language_info": {
   "codemirror_mode": {
    "name": "ipython",
    "version": 3
   },
   "file_extension": ".py",
   "mimetype": "text/x-python",
   "name": "python",
   "nbconvert_exporter": "python",
   "pygments_lexer": "ipython3",
   "version": "3.9.7"
  }
 },
 "nbformat": 4,
 "nbformat_minor": 5
}
